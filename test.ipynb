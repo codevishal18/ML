{
 "cells": [
  {
   "cell_type": "code",
   "execution_count": 1,
   "id": "cb087240",
   "metadata": {},
   "outputs": [
    {
     "name": "stdout",
     "output_type": "stream",
     "text": [
      "Hi\n"
     ]
    }
   ],
   "source": [
    "print(\"Hi\")"
   ]
  },
  {
   "cell_type": "code",
   "execution_count": 2,
   "id": "3b59881d",
   "metadata": {},
   "outputs": [
    {
     "name": "stdout",
     "output_type": "stream",
     "text": [
      "Hey\n"
     ]
    }
   ],
   "source": [
    "print(\"Hey\")"
   ]
  },
  {
   "cell_type": "markdown",
   "id": "0e17c1a9",
   "metadata": {},
   "source": [
    "starting with ml lab"
   ]
  },
  {
   "cell_type": "code",
   "execution_count": 3,
   "id": "80df5bee",
   "metadata": {},
   "outputs": [
    {
     "name": "stdout",
     "output_type": "stream",
     "text": [
      "hello\n"
     ]
    }
   ],
   "source": [
    "print(\"hello\")"
   ]
  },
  {
   "cell_type": "markdown",
   "id": "10779cd8",
   "metadata": {},
   "source": [
    "# heading\n",
    "$sin\\theta$\n"
   ]
  },
  {
   "cell_type": "markdown",
   "id": "2e2edb3c",
   "metadata": {},
   "source": [
    "$x^2+y^2$"
   ]
  },
  {
   "cell_type": "markdown",
   "id": "00b9ac5f",
   "metadata": {},
   "source": [
    "$\\frac{1}{2}$"
   ]
  },
  {
   "cell_type": "code",
   "execution_count": null,
   "id": "339b1702",
   "metadata": {},
   "outputs": [],
   "source": []
  }
 ],
 "metadata": {
  "kernelspec": {
   "display_name": "Python 3 (ipykernel)",
   "language": "python",
   "name": "python3"
  },
  "language_info": {
   "codemirror_mode": {
    "name": "ipython",
    "version": 3
   },
   "file_extension": ".py",
   "mimetype": "text/x-python",
   "name": "python",
   "nbconvert_exporter": "python",
   "pygments_lexer": "ipython3",
   "version": "3.9.7"
  }
 },
 "nbformat": 4,
 "nbformat_minor": 5
}
