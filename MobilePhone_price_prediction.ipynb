{
 "cells": [
  {
   "cell_type": "code",
   "execution_count": 1,
   "id": "103564d8",
   "metadata": {},
   "outputs": [],
   "source": [
    "import pandas as pd\n",
    "import numpy as np"
   ]
  },
  {
   "cell_type": "code",
   "execution_count": 2,
   "id": "7f04f31f",
   "metadata": {},
   "outputs": [
    {
     "data": {
      "text/plain": [
       "Index(['Brand', 'Model', 'Storage ', 'RAM ', 'Screen Size (inches)',\n",
       "       'Camera (MP)', 'Battery Capacity (mAh)', 'Price ($)'],\n",
       "      dtype='object')"
      ]
     },
     "execution_count": 2,
     "metadata": {},
     "output_type": "execute_result"
    }
   ],
   "source": [
    "df=pd.read_csv('Mobile phone price.csv')\n",
    "df.columns"
   ]
  },
  {
   "cell_type": "code",
   "execution_count": 3,
   "id": "59a8a3df",
   "metadata": {},
   "outputs": [
    {
     "name": "stderr",
     "output_type": "stream",
     "text": [
      "C:\\Users\\visha\\AppData\\Local\\Temp\\ipykernel_24944\\3643351153.py:9: SettingWithCopyWarning: \n",
      "A value is trying to be set on a copy of a slice from a DataFrame\n",
      "\n",
      "See the caveats in the documentation: https://pandas.pydata.org/pandas-docs/stable/user_guide/indexing.html#returning-a-view-versus-a-copy\n",
      "  df['Price ($)'][i]=a\n"
     ]
    },
    {
     "data": {
      "text/plain": [
       "0       999\n",
       "1      1199\n",
       "2       899\n",
       "3       279\n",
       "4       799\n",
       "       ... \n",
       "402    1049\n",
       "403     349\n",
       "404    1099\n",
       "405     429\n",
       "406     649\n",
       "Name: Price ($), Length: 407, dtype: object"
      ]
     },
     "execution_count": 3,
     "metadata": {},
     "output_type": "execute_result"
    }
   ],
   "source": [
    "for i in range(len(df['Price ($)'])):\n",
    "    a=\"\"\n",
    "    s=df['Price ($)'][i]\n",
    "    for j in range(len(s)):\n",
    "        if(s[j]!='$' and s[j]!=','):\n",
    "            a=a+s[j]\n",
    "        elif(s[j]==' '):\n",
    "            break\n",
    "    df['Price ($)'][i]=a\n",
    "df['Price ($)']"
   ]
  },
  {
   "cell_type": "code",
   "execution_count": 4,
   "id": "a7aff79b",
   "metadata": {},
   "outputs": [
    {
     "data": {
      "text/plain": [
       "dtype('int64')"
      ]
     },
     "execution_count": 4,
     "metadata": {},
     "output_type": "execute_result"
    }
   ],
   "source": [
    "df['Price ($)']= df['Price ($)'].astype('int64')\n",
    "df['Price ($)'].dtype"
   ]
  },
  {
   "cell_type": "code",
   "execution_count": 5,
   "id": "6676918a",
   "metadata": {},
   "outputs": [
    {
     "data": {
      "text/plain": [
       "13"
      ]
     },
     "execution_count": 5,
     "metadata": {},
     "output_type": "execute_result"
    }
   ],
   "source": [
    "len(df['Model'][0])"
   ]
  },
  {
   "cell_type": "code",
   "execution_count": 6,
   "id": "0fd17c9c",
   "metadata": {},
   "outputs": [],
   "source": [
    "X= df.iloc[:,0:7]\n",
    "\n",
    "X['Brand'] = pd.factorize(X['Brand'])[0]\n",
    "X['Model'] = pd.factorize(X['Model'])[0]"
   ]
  },
  {
   "cell_type": "code",
   "execution_count": 9,
   "id": "c503ba0f",
   "metadata": {},
   "outputs": [
    {
     "data": {
      "text/html": [
       "<div>\n",
       "<style scoped>\n",
       "    .dataframe tbody tr th:only-of-type {\n",
       "        vertical-align: middle;\n",
       "    }\n",
       "\n",
       "    .dataframe tbody tr th {\n",
       "        vertical-align: top;\n",
       "    }\n",
       "\n",
       "    .dataframe thead th {\n",
       "        text-align: right;\n",
       "    }\n",
       "</style>\n",
       "<table border=\"1\" class=\"dataframe\">\n",
       "  <thead>\n",
       "    <tr style=\"text-align: right;\">\n",
       "      <th></th>\n",
       "      <th>Brand</th>\n",
       "      <th>Model</th>\n",
       "      <th>Storage</th>\n",
       "      <th>RAM</th>\n",
       "      <th>Screen Size (inches)</th>\n",
       "      <th>Camera (MP)</th>\n",
       "      <th>Battery Capacity (mAh)</th>\n",
       "    </tr>\n",
       "  </thead>\n",
       "  <tbody>\n",
       "    <tr>\n",
       "      <th>0</th>\n",
       "      <td>0</td>\n",
       "      <td>0</td>\n",
       "      <td>128 GB</td>\n",
       "      <td>6 GB</td>\n",
       "      <td>6.1</td>\n",
       "      <td>12 + 12 + 12</td>\n",
       "      <td>3095</td>\n",
       "    </tr>\n",
       "    <tr>\n",
       "      <th>1</th>\n",
       "      <td>1</td>\n",
       "      <td>1</td>\n",
       "      <td>256 GB</td>\n",
       "      <td>12 GB</td>\n",
       "      <td>6.8</td>\n",
       "      <td>108 + 10 + 10 + 12</td>\n",
       "      <td>5000</td>\n",
       "    </tr>\n",
       "    <tr>\n",
       "      <th>2</th>\n",
       "      <td>2</td>\n",
       "      <td>2</td>\n",
       "      <td>128 GB</td>\n",
       "      <td>8 GB</td>\n",
       "      <td>6.7</td>\n",
       "      <td>48 + 50 + 8 + 2</td>\n",
       "      <td>4500</td>\n",
       "    </tr>\n",
       "    <tr>\n",
       "      <th>3</th>\n",
       "      <td>3</td>\n",
       "      <td>3</td>\n",
       "      <td>128 GB</td>\n",
       "      <td>6 GB</td>\n",
       "      <td>6.67</td>\n",
       "      <td>64 + 8 + 5 + 2</td>\n",
       "      <td>5020</td>\n",
       "    </tr>\n",
       "    <tr>\n",
       "      <th>4</th>\n",
       "      <td>4</td>\n",
       "      <td>4</td>\n",
       "      <td>128 GB</td>\n",
       "      <td>8 GB</td>\n",
       "      <td>6.4</td>\n",
       "      <td>50 + 12.2</td>\n",
       "      <td>4614</td>\n",
       "    </tr>\n",
       "    <tr>\n",
       "      <th>...</th>\n",
       "      <td>...</td>\n",
       "      <td>...</td>\n",
       "      <td>...</td>\n",
       "      <td>...</td>\n",
       "      <td>...</td>\n",
       "      <td>...</td>\n",
       "      <td>...</td>\n",
       "    </tr>\n",
       "    <tr>\n",
       "      <th>402</th>\n",
       "      <td>1</td>\n",
       "      <td>222</td>\n",
       "      <td>128</td>\n",
       "      <td>8</td>\n",
       "      <td>6.7</td>\n",
       "      <td>12+64+12</td>\n",
       "      <td>4300</td>\n",
       "    </tr>\n",
       "    <tr>\n",
       "      <th>403</th>\n",
       "      <td>3</td>\n",
       "      <td>236</td>\n",
       "      <td>128</td>\n",
       "      <td>6</td>\n",
       "      <td>6.57</td>\n",
       "      <td>48+8+2+2</td>\n",
       "      <td>4160</td>\n",
       "    </tr>\n",
       "    <tr>\n",
       "      <th>404</th>\n",
       "      <td>0</td>\n",
       "      <td>237</td>\n",
       "      <td>128</td>\n",
       "      <td>6</td>\n",
       "      <td>6.7</td>\n",
       "      <td>12+12+12</td>\n",
       "      <td>3687</td>\n",
       "    </tr>\n",
       "    <tr>\n",
       "      <th>405</th>\n",
       "      <td>5</td>\n",
       "      <td>238</td>\n",
       "      <td>128</td>\n",
       "      <td>8</td>\n",
       "      <td>6.4</td>\n",
       "      <td>48+13+8+2</td>\n",
       "      <td>4025</td>\n",
       "    </tr>\n",
       "    <tr>\n",
       "      <th>406</th>\n",
       "      <td>1</td>\n",
       "      <td>199</td>\n",
       "      <td>128</td>\n",
       "      <td>6</td>\n",
       "      <td>6.7</td>\n",
       "      <td>48+12+5</td>\n",
       "      <td>4500</td>\n",
       "    </tr>\n",
       "  </tbody>\n",
       "</table>\n",
       "<p>407 rows × 7 columns</p>\n",
       "</div>"
      ],
      "text/plain": [
       "     Brand  Model Storage    RAM  Screen Size (inches)         Camera (MP)  \\\n",
       "0        0      0   128 GB   6 GB                  6.1        12 + 12 + 12   \n",
       "1        1      1   256 GB  12 GB                  6.8  108 + 10 + 10 + 12   \n",
       "2        2      2   128 GB   8 GB                  6.7     48 + 50 + 8 + 2   \n",
       "3        3      3   128 GB   6 GB                 6.67      64 + 8 + 5 + 2   \n",
       "4        4      4   128 GB   8 GB                  6.4           50 + 12.2   \n",
       "..     ...    ...      ...    ...                  ...                 ...   \n",
       "402      1    222      128      8                  6.7            12+64+12   \n",
       "403      3    236      128      6                 6.57            48+8+2+2   \n",
       "404      0    237      128      6                  6.7            12+12+12   \n",
       "405      5    238      128      8                  6.4           48+13+8+2   \n",
       "406      1    199      128      6                  6.7             48+12+5   \n",
       "\n",
       "     Battery Capacity (mAh)  \n",
       "0                      3095  \n",
       "1                      5000  \n",
       "2                      4500  \n",
       "3                      5020  \n",
       "4                      4614  \n",
       "..                      ...  \n",
       "402                    4300  \n",
       "403                    4160  \n",
       "404                    3687  \n",
       "405                    4025  \n",
       "406                    4500  \n",
       "\n",
       "[407 rows x 7 columns]"
      ]
     },
     "execution_count": 9,
     "metadata": {},
     "output_type": "execute_result"
    }
   ],
   "source": [
    "X"
   ]
  },
  {
   "cell_type": "code",
   "execution_count": 7,
   "id": "2c8c0378",
   "metadata": {},
   "outputs": [
    {
     "name": "stdout",
     "output_type": "stream",
     "text": [
      "Index(['Brand', 'Model', 'Storage ', 'RAM ', 'Screen Size (inches)',\n",
      "       'Camera (MP)', 'Battery Capacity (mAh)'],\n",
      "      dtype='object')\n"
     ]
    }
   ],
   "source": [
    "print(X.columns)"
   ]
  },
  {
   "cell_type": "code",
   "execution_count": 8,
   "id": "bc2cfe40",
   "metadata": {},
   "outputs": [
    {
     "ename": "KeyError",
     "evalue": "'Storage'",
     "output_type": "error",
     "traceback": [
      "\u001b[1;31m---------------------------------------------------------------------------\u001b[0m",
      "\u001b[1;31mKeyError\u001b[0m                                  Traceback (most recent call last)",
      "\u001b[1;32m~\\anaconda3\\lib\\site-packages\\pandas\\core\\indexes\\base.py\u001b[0m in \u001b[0;36mget_loc\u001b[1;34m(self, key, method, tolerance)\u001b[0m\n\u001b[0;32m   3628\u001b[0m             \u001b[1;32mtry\u001b[0m\u001b[1;33m:\u001b[0m\u001b[1;33m\u001b[0m\u001b[1;33m\u001b[0m\u001b[0m\n\u001b[1;32m-> 3629\u001b[1;33m                 \u001b[1;32mreturn\u001b[0m \u001b[0mself\u001b[0m\u001b[1;33m.\u001b[0m\u001b[0m_engine\u001b[0m\u001b[1;33m.\u001b[0m\u001b[0mget_loc\u001b[0m\u001b[1;33m(\u001b[0m\u001b[0mcasted_key\u001b[0m\u001b[1;33m)\u001b[0m\u001b[1;33m\u001b[0m\u001b[1;33m\u001b[0m\u001b[0m\n\u001b[0m\u001b[0;32m   3630\u001b[0m             \u001b[1;32mexcept\u001b[0m \u001b[0mKeyError\u001b[0m \u001b[1;32mas\u001b[0m \u001b[0merr\u001b[0m\u001b[1;33m:\u001b[0m\u001b[1;33m\u001b[0m\u001b[1;33m\u001b[0m\u001b[0m\n",
      "\u001b[1;32m~\\anaconda3\\lib\\site-packages\\pandas\\_libs\\index.pyx\u001b[0m in \u001b[0;36mpandas._libs.index.IndexEngine.get_loc\u001b[1;34m()\u001b[0m\n",
      "\u001b[1;32m~\\anaconda3\\lib\\site-packages\\pandas\\_libs\\index.pyx\u001b[0m in \u001b[0;36mpandas._libs.index.IndexEngine.get_loc\u001b[1;34m()\u001b[0m\n",
      "\u001b[1;32mpandas\\_libs\\hashtable_class_helper.pxi\u001b[0m in \u001b[0;36mpandas._libs.hashtable.PyObjectHashTable.get_item\u001b[1;34m()\u001b[0m\n",
      "\u001b[1;32mpandas\\_libs\\hashtable_class_helper.pxi\u001b[0m in \u001b[0;36mpandas._libs.hashtable.PyObjectHashTable.get_item\u001b[1;34m()\u001b[0m\n",
      "\u001b[1;31mKeyError\u001b[0m: 'Storage'",
      "\nThe above exception was the direct cause of the following exception:\n",
      "\u001b[1;31mKeyError\u001b[0m                                  Traceback (most recent call last)",
      "\u001b[1;32m~\\AppData\\Local\\Temp\\ipykernel_24944\\3844437311.py\u001b[0m in \u001b[0;36m<module>\u001b[1;34m\u001b[0m\n\u001b[1;32m----> 1\u001b[1;33m \u001b[0mX\u001b[0m\u001b[1;33m[\u001b[0m\u001b[1;34m'Storage'\u001b[0m\u001b[1;33m]\u001b[0m \u001b[1;33m=\u001b[0m \u001b[0mX\u001b[0m\u001b[1;33m[\u001b[0m\u001b[1;34m'Storage'\u001b[0m\u001b[1;33m]\u001b[0m\u001b[1;33m.\u001b[0m\u001b[0mstr\u001b[0m\u001b[1;33m.\u001b[0m\u001b[0mreplace\u001b[0m\u001b[1;33m(\u001b[0m\u001b[1;34m'GB'\u001b[0m\u001b[1;33m,\u001b[0m \u001b[1;34m''\u001b[0m\u001b[1;33m)\u001b[0m\u001b[1;33m\u001b[0m\u001b[1;33m\u001b[0m\u001b[0m\n\u001b[0m\u001b[0;32m      2\u001b[0m \u001b[0mX\u001b[0m\u001b[1;33m[\u001b[0m\u001b[1;34m'Storage'\u001b[0m\u001b[1;33m]\u001b[0m \u001b[1;33m=\u001b[0m \u001b[0mX\u001b[0m\u001b[1;33m[\u001b[0m\u001b[1;34m'Storage'\u001b[0m\u001b[1;33m]\u001b[0m\u001b[1;33m.\u001b[0m\u001b[0mastype\u001b[0m\u001b[1;33m(\u001b[0m\u001b[1;34m'int64'\u001b[0m\u001b[1;33m)\u001b[0m\u001b[1;33m\u001b[0m\u001b[1;33m\u001b[0m\u001b[0m\n\u001b[0;32m      3\u001b[0m \u001b[0mX\u001b[0m\u001b[1;33m[\u001b[0m\u001b[1;34m'RAM'\u001b[0m\u001b[1;33m]\u001b[0m \u001b[1;33m=\u001b[0m \u001b[0mX\u001b[0m\u001b[1;33m[\u001b[0m\u001b[1;34m'RAM'\u001b[0m\u001b[1;33m]\u001b[0m\u001b[1;33m.\u001b[0m\u001b[0mstr\u001b[0m\u001b[1;33m.\u001b[0m\u001b[0mreplace\u001b[0m\u001b[1;33m(\u001b[0m\u001b[1;34m'GB'\u001b[0m\u001b[1;33m,\u001b[0m \u001b[1;34m''\u001b[0m\u001b[1;33m)\u001b[0m\u001b[1;33m\u001b[0m\u001b[1;33m\u001b[0m\u001b[0m\n\u001b[0;32m      4\u001b[0m \u001b[0mX\u001b[0m\u001b[1;33m[\u001b[0m\u001b[1;34m'RAM'\u001b[0m\u001b[1;33m]\u001b[0m \u001b[1;33m=\u001b[0m \u001b[0mX\u001b[0m\u001b[1;33m[\u001b[0m\u001b[1;34m'RAM'\u001b[0m\u001b[1;33m]\u001b[0m\u001b[1;33m.\u001b[0m\u001b[0mastype\u001b[0m\u001b[1;33m(\u001b[0m\u001b[1;34m'int64'\u001b[0m\u001b[1;33m)\u001b[0m\u001b[1;33m\u001b[0m\u001b[1;33m\u001b[0m\u001b[0m\n",
      "\u001b[1;32m~\\anaconda3\\lib\\site-packages\\pandas\\core\\frame.py\u001b[0m in \u001b[0;36m__getitem__\u001b[1;34m(self, key)\u001b[0m\n\u001b[0;32m   3503\u001b[0m             \u001b[1;32mif\u001b[0m \u001b[0mself\u001b[0m\u001b[1;33m.\u001b[0m\u001b[0mcolumns\u001b[0m\u001b[1;33m.\u001b[0m\u001b[0mnlevels\u001b[0m \u001b[1;33m>\u001b[0m \u001b[1;36m1\u001b[0m\u001b[1;33m:\u001b[0m\u001b[1;33m\u001b[0m\u001b[1;33m\u001b[0m\u001b[0m\n\u001b[0;32m   3504\u001b[0m                 \u001b[1;32mreturn\u001b[0m \u001b[0mself\u001b[0m\u001b[1;33m.\u001b[0m\u001b[0m_getitem_multilevel\u001b[0m\u001b[1;33m(\u001b[0m\u001b[0mkey\u001b[0m\u001b[1;33m)\u001b[0m\u001b[1;33m\u001b[0m\u001b[1;33m\u001b[0m\u001b[0m\n\u001b[1;32m-> 3505\u001b[1;33m             \u001b[0mindexer\u001b[0m \u001b[1;33m=\u001b[0m \u001b[0mself\u001b[0m\u001b[1;33m.\u001b[0m\u001b[0mcolumns\u001b[0m\u001b[1;33m.\u001b[0m\u001b[0mget_loc\u001b[0m\u001b[1;33m(\u001b[0m\u001b[0mkey\u001b[0m\u001b[1;33m)\u001b[0m\u001b[1;33m\u001b[0m\u001b[1;33m\u001b[0m\u001b[0m\n\u001b[0m\u001b[0;32m   3506\u001b[0m             \u001b[1;32mif\u001b[0m \u001b[0mis_integer\u001b[0m\u001b[1;33m(\u001b[0m\u001b[0mindexer\u001b[0m\u001b[1;33m)\u001b[0m\u001b[1;33m:\u001b[0m\u001b[1;33m\u001b[0m\u001b[1;33m\u001b[0m\u001b[0m\n\u001b[0;32m   3507\u001b[0m                 \u001b[0mindexer\u001b[0m \u001b[1;33m=\u001b[0m \u001b[1;33m[\u001b[0m\u001b[0mindexer\u001b[0m\u001b[1;33m]\u001b[0m\u001b[1;33m\u001b[0m\u001b[1;33m\u001b[0m\u001b[0m\n",
      "\u001b[1;32m~\\anaconda3\\lib\\site-packages\\pandas\\core\\indexes\\base.py\u001b[0m in \u001b[0;36mget_loc\u001b[1;34m(self, key, method, tolerance)\u001b[0m\n\u001b[0;32m   3629\u001b[0m                 \u001b[1;32mreturn\u001b[0m \u001b[0mself\u001b[0m\u001b[1;33m.\u001b[0m\u001b[0m_engine\u001b[0m\u001b[1;33m.\u001b[0m\u001b[0mget_loc\u001b[0m\u001b[1;33m(\u001b[0m\u001b[0mcasted_key\u001b[0m\u001b[1;33m)\u001b[0m\u001b[1;33m\u001b[0m\u001b[1;33m\u001b[0m\u001b[0m\n\u001b[0;32m   3630\u001b[0m             \u001b[1;32mexcept\u001b[0m \u001b[0mKeyError\u001b[0m \u001b[1;32mas\u001b[0m \u001b[0merr\u001b[0m\u001b[1;33m:\u001b[0m\u001b[1;33m\u001b[0m\u001b[1;33m\u001b[0m\u001b[0m\n\u001b[1;32m-> 3631\u001b[1;33m                 \u001b[1;32mraise\u001b[0m \u001b[0mKeyError\u001b[0m\u001b[1;33m(\u001b[0m\u001b[0mkey\u001b[0m\u001b[1;33m)\u001b[0m \u001b[1;32mfrom\u001b[0m \u001b[0merr\u001b[0m\u001b[1;33m\u001b[0m\u001b[1;33m\u001b[0m\u001b[0m\n\u001b[0m\u001b[0;32m   3632\u001b[0m             \u001b[1;32mexcept\u001b[0m \u001b[0mTypeError\u001b[0m\u001b[1;33m:\u001b[0m\u001b[1;33m\u001b[0m\u001b[1;33m\u001b[0m\u001b[0m\n\u001b[0;32m   3633\u001b[0m                 \u001b[1;31m# If we have a listlike key, _check_indexing_error will raise\u001b[0m\u001b[1;33m\u001b[0m\u001b[1;33m\u001b[0m\u001b[0m\n",
      "\u001b[1;31mKeyError\u001b[0m: 'Storage'"
     ]
    }
   ],
   "source": [
    "for i in range(len(df['Price ($)'])):\n",
    "    a=\"\"\n",
    "    s=df['Price ($)'][i]\n",
    "    for j in range(len(s)):\n",
    "        if(s[j]!='$' and s[j]!=','):\n",
    "            a=a+s[j]\n",
    "        elif(s[j]==' '):\n",
    "            break\n",
    "    df['Price ($)'][i]=a\n",
    "df['Price ($)']"
   ]
  },
  {
   "cell_type": "code",
   "execution_count": null,
   "id": "c702de33",
   "metadata": {},
   "outputs": [],
   "source": [
    "print(X['Storage'].dtype)\n",
    "print(X['RAM'].dtype)"
   ]
  },
  {
   "cell_type": "code",
   "execution_count": null,
   "id": "fcdb6e3b",
   "metadata": {},
   "outputs": [],
   "source": [
    "X"
   ]
  },
  {
   "cell_type": "code",
   "execution_count": null,
   "id": "6b19a028",
   "metadata": {},
   "outputs": [],
   "source": [
    "X.head(50)"
   ]
  },
  {
   "cell_type": "code",
   "execution_count": null,
   "id": "c14b681f",
   "metadata": {},
   "outputs": [],
   "source": [
    "for i in range(len(X['Screen Size (inches)'])):\n",
    "    a=\"\"\n",
    "    s=X['Screen Size (inches)'][i]\n",
    "    for j in range(len(s)):\n",
    "        if(s[j]!=' '):\n",
    "            a=a+s[j]\n",
    "        else:\n",
    "            break\n",
    "    X['Screen Size (inches)'][i]=a\n",
    "X['Screen Size (inches)']"
   ]
  },
  {
   "cell_type": "code",
   "execution_count": null,
   "id": "a5bbda19",
   "metadata": {},
   "outputs": [],
   "source": [
    "X['Screen Size (inches)']=X['Screen Size (inches)'].astype(float)\n",
    "print(X['Screen Size (inches)'].dtype)"
   ]
  },
  {
   "cell_type": "code",
   "execution_count": null,
   "id": "ee996437",
   "metadata": {},
   "outputs": [],
   "source": [
    "for i in range(len(X['Camera (MP)'])):\n",
    "    a=\"\"\n",
    "    s=X['Camera (MP)'][i]\n",
    "    for j in range(len(s)):\n",
    "        if(s[j]!='+' and s[j]!='M'):\n",
    "            a=a+s[j]\n",
    "        else:\n",
    "            break\n",
    "    X['Camera (MP)'][i]=a\n",
    "X['Camera (MP)']"
   ]
  },
  {
   "cell_type": "code",
   "execution_count": null,
   "id": "95a09792",
   "metadata": {},
   "outputs": [],
   "source": [
    "X"
   ]
  },
  {
   "cell_type": "code",
   "execution_count": null,
   "id": "3cc9e7b0",
   "metadata": {},
   "outputs": [],
   "source": [
    "X['Camera (MP)']=X['Camera (MP)'].astype(float)"
   ]
  },
  {
   "cell_type": "code",
   "execution_count": null,
   "id": "54bf6944",
   "metadata": {},
   "outputs": [],
   "source": [
    "print(X['Screen Size (inches)'].dtype)"
   ]
  },
  {
   "cell_type": "code",
   "execution_count": null,
   "id": "b04593d3",
   "metadata": {},
   "outputs": [],
   "source": [
    "X.info()"
   ]
  },
  {
   "cell_type": "code",
   "execution_count": null,
   "id": "29338a61",
   "metadata": {},
   "outputs": [],
   "source": [
    "Y=df.iloc[:,-1]\n",
    "Y.dtype"
   ]
  },
  {
   "cell_type": "code",
   "execution_count": null,
   "id": "f5add4b1",
   "metadata": {},
   "outputs": [],
   "source": [
    "Y[272]"
   ]
  },
  {
   "cell_type": "code",
   "execution_count": null,
   "id": "34b33981",
   "metadata": {},
   "outputs": [],
   "source": [
    "from sklearn.model_selection import train_test_split  \n",
    "x_train, x_test, y_train, y_test= train_test_split(X, Y, test_size= 0.25, random_state=0)  \n",
    "  \n",
    "# feature Scaling  \n",
    "from sklearn.preprocessing import StandardScaler    \n",
    "st_x= StandardScaler()  \n",
    "x_train= st_x.fit_transform(x_train)    \n",
    "x_test= st_x.transform(x_test)"
   ]
  },
  {
   "cell_type": "code",
   "execution_count": null,
   "id": "f9bbb58d",
   "metadata": {},
   "outputs": [],
   "source": [
    "from sklearn.tree import DecisionTreeRegressor \n",
    "  \n",
    "regressor = DecisionTreeRegressor(random_state = 0) \n",
    "  \n",
    "regressor.fit(x_train,y_train)"
   ]
  },
  {
   "cell_type": "code",
   "execution_count": null,
   "id": "ef65f967",
   "metadata": {},
   "outputs": [],
   "source": [
    "y_pred_list = []\n",
    "\n",
    "for row in x_test:\n",
    "    \n",
    "    row = row.reshape(1, -1)\n",
    "    \n",
    "    y_pred = regressor.predict(row)\n",
    "    print(y_pred)\n",
    "    \n",
    "    y_pred_list.append(y_pred[0])\n",
    "\n",
    "\n",
    "y_pred_array = np.array(y_pred_list)"
   ]
  },
  {
   "cell_type": "code",
   "execution_count": null,
   "id": "de4bbeb7",
   "metadata": {},
   "outputs": [],
   "source": [
    "x_test.shape"
   ]
  },
  {
   "cell_type": "code",
   "execution_count": null,
   "id": "cf144e56",
   "metadata": {},
   "outputs": [],
   "source": [
    "type(y_pred_array)\n",
    "print(y_pred_array.ndim)"
   ]
  },
  {
   "cell_type": "code",
   "execution_count": null,
   "id": "4b2d9f13",
   "metadata": {},
   "outputs": [],
   "source": [
    "type(y_test)"
   ]
  },
  {
   "cell_type": "code",
   "execution_count": null,
   "id": "ecdd73f5",
   "metadata": {},
   "outputs": [],
   "source": [
    "y_test=np.array(y_test)\n",
    "type(y_test)\n",
    "print(y_test)"
   ]
  },
  {
   "cell_type": "code",
   "execution_count": null,
   "id": "5b3ef908",
   "metadata": {},
   "outputs": [],
   "source": [
    "from sklearn.metrics import mean_absolute_error, r2_score\n",
    "\n",
    "\n",
    "mae = mean_absolute_error(y_test, y_pred_array)\n",
    "\n",
    "r2 = r2_score(y_test, y_pred_array)\n",
    "\n",
    "accuracy = (1 - mae / y_test.mean()) * 100\n",
    "\n",
    "print(\"Accuracy: {:.2f}%\".format(accuracy))\n",
    "print(\"R-squared score: {:.4f}\".format(r2))"
   ]
  },
  {
   "cell_type": "code",
   "execution_count": null,
   "id": "6034bfdb",
   "metadata": {},
   "outputs": [],
   "source": [
    "def suggest_features():\n",
    "    price_range = input('Enter the price range you are looking for: ')\n",
    "    price_range = float(price_range)\n",
    "    \n",
    "    \n",
    "    features = [0]*7 \n",
    "    max_price = price_range\n",
    "    max_iterations = 100\n",
    "    iterations = 0\n",
    "    while regressor.predict([features])[0] <= max_price and iterations < max_iterations:\n",
    "        max_price += 10\n",
    "        features[0] = max_price\n",
    "        iterations += 1\n",
    "    max_price -= 10\n",
    "    features[0] = max_price\n",
    "    filtered_data = df[df['Price ($)'] <= price_range]\n",
    "    \n",
    "    suggested_phone = filtered_data.loc[filtered_data['Price ($)'].idxmax()]\n",
    "    \n",
    "    \n",
    "    print('For a price range of', price_range, 'you can get a phone with the following features:')\n",
    "    for feature, value in suggested_phone.items():\n",
    "        if feature != 'Price ($)':\n",
    "            print(feature + ':', value)\n",
    "\n",
    "            \n",
    "def predict_mobile_price():\n",
    "    brand=input('Enter the brand name')\n",
    "    model=input('Enter the model name')\n",
    "    stor=int(input('Enter the storage(in GB)'))\n",
    "    ram = int(input('Enter RAM (in GB): '))\n",
    "    screen = float(input('Enter screen size(in inches): '))\n",
    "    pc = float(input('Enter primary camera resolution (in MP): '))\n",
    "    battery= int(input('Enter battery power (in mAh): '))\n",
    "    new_features = pd.DataFrame({\n",
    "        'Brand': ['brand'],\n",
    "        'Model': ['model'],\n",
    "        'Storage': [stor],\n",
    "        'RAM': [ram],\n",
    "        'Screen Size (inches)': [screen],\n",
    "        'Camera (MP)': [pc],\n",
    "        'Battery Capacity (mAh)': [battery],\n",
    "    })\n",
    "\n",
    "\n",
    "    new_features['Brand'] = pd.factorize(new_features['Brand'], sort=True)[0]\n",
    "    new_features['Model'] = pd.factorize(new_features['Model'], sort=True)[0]\n",
    "\n",
    "    \n",
    "    new_features = pd.DataFrame(st_x.transform(new_features), columns=new_features.columns)\n",
    "\n",
    "    \n",
    "    price= regressor.predict(new_features)[0]\n",
    "    print(\"The predicted price is: $\", round(price, 2))\n",
    "    \n",
    "    \n",
    "choice=int(input(\"Enter 1 if you want to predict the price of the mobile by providing us features or  Enter 2 if you want to get the features in the price range provided by you \"))\n",
    "\n",
    "if choice==1:\n",
    "    predict_mobile_price()\n",
    "        \n",
    "elif choice==2:\n",
    "    suggest_features()\n",
    "else:\n",
    "    print(\"please choose correct number\")"
   ]
  }
 ],
 "metadata": {
  "kernelspec": {
   "display_name": "Python 3 (ipykernel)",
   "language": "python",
   "name": "python3"
  },
  "language_info": {
   "codemirror_mode": {
    "name": "ipython",
    "version": 3
   },
   "file_extension": ".py",
   "mimetype": "text/x-python",
   "name": "python",
   "nbconvert_exporter": "python",
   "pygments_lexer": "ipython3",
   "version": "3.9.13"
  }
 },
 "nbformat": 4,
 "nbformat_minor": 5
}
