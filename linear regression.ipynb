{
 "cells": [
  {
   "cell_type": "code",
   "execution_count": null,
   "id": "b916919a",
   "metadata": {},
   "outputs": [],
   "source": [
    "import pandas as pd\n",
    "import numpy as np\n",
    "import matplotlib.pyplot as plt\n",
    "import matplotlib.axes as ax"
   ]
  },
  {
   "cell_type": "code",
   "execution_count": null,
   "id": "7fbb797c",
   "metadata": {},
   "outputs": [],
   "source": [
    "data = pd.read_csv(\"data_for_lr.csv\")\n",
    "data.head(10)"
   ]
  },
  {
   "cell_type": "code",
   "execution_count": null,
   "id": "8e4dadda",
   "metadata": {},
   "outputs": [],
   "source": [
    "data.info()"
   ]
  },
  {
   "cell_type": "code",
   "execution_count": null,
   "id": "1c80790b",
   "metadata": {},
   "outputs": [],
   "source": [
    "data.isnull().sum()"
   ]
  },
  {
   "cell_type": "code",
   "execution_count": null,
   "id": "5f3c80c9",
   "metadata": {},
   "outputs": [],
   "source": [
    "data = data.dropna()\n",
    "data.shape"
   ]
  },
  {
   "cell_type": "code",
   "execution_count": null,
   "id": "8db35957",
   "metadata": {},
   "outputs": [],
   "source": [
    "train_input = np.array(data.x[0:500]).reshape(500,1)\n",
    "train_input"
   ]
  },
  {
   "cell_type": "code",
   "execution_count": null,
   "id": "4b973b0e",
   "metadata": {},
   "outputs": [],
   "source": [
    "train_output = np.array(data.y[0:500]).reshape(500,1)\n",
    "train_output"
   ]
  },
  {
   "cell_type": "code",
   "execution_count": null,
   "id": "03d39862",
   "metadata": {},
   "outputs": [],
   "source": [
    "test_input = np.array(data.x[500:699]).reshape(199,1)\n",
    "test_output = np.array(data.y[500:699]).reshape(199,1)"
   ]
  },
  {
   "cell_type": "markdown",
   "id": "51c67952",
   "metadata": {},
   "source": [
    "<font color = \"green\">Linear Regression</font>"
   ]
  },
  {
   "cell_type": "code",
   "execution_count": null,
   "id": "1d4c8a8b",
   "metadata": {},
   "outputs": [],
   "source": [
    "#forward propagation\n",
    "#f(x)=mx+c\n",
    "def forward_propagation(train_input , parameters):\n",
    "    m = parameters[\"m\"]\n",
    "    c = parameters[\"c\"]\n",
    "    \n",
    "    predictions = np.multiply(m,train_input) + c\n",
    "    \n",
    "    return predictions"
   ]
  },
  {
   "cell_type": "code",
   "execution_count": null,
   "id": "f6a3c8e5",
   "metadata": {},
   "outputs": [],
   "source": [
    "#cost function\n",
    "def cost_function(predictions, train_output):\n",
    "    cost = np.mean((train_output-predictions)**2)*0.5\n",
    "    return cost"
   ]
  },
  {
   "cell_type": "code",
   "execution_count": null,
   "id": "c1154a77",
   "metadata": {},
   "outputs": [],
   "source": [
    "#gradient descent\n",
    "def backward_propagation(train_input, train_output, predictions):\n",
    "    derivatives = dict()\n",
    "    df = predictions - train_output\n",
    "    dm = np.mean(np.multiply(df,train_input))\n",
    "    dc = np.mean(df)\n",
    "    derivatives[\"dm\"] = dm\n",
    "    derivatives[\"dc\"] = dc\n",
    "    return derivatives"
   ]
  },
  {
   "cell_type": "code",
   "execution_count": null,
   "id": "0cf44b37",
   "metadata": {},
   "outputs": [],
   "source": [
    "#update parameters\n",
    "def update_parameters(parameters, derivatives, learning_rate):\n",
    "    parameters[\"m\"] = parameters[\"m\"] - learning_rate*derivatives[\"dm\"]\n",
    "    parameters[\"c\"] = parameters[\"c\"] - learning_rate*derivatives[\"dc\"]\n",
    "    return parameters"
   ]
  },
  {
   "cell_type": "code",
   "execution_count": null,
   "id": "637a49bd",
   "metadata": {},
   "outputs": [],
   "source": [
    "#model training\n",
    "def train(train_input,train_output,learning_rate,iters):\n",
    "    #random parameters\n",
    "    parameters = dict()\n",
    "    parameters[\"m\"] = np.random.uniform(0,1)\n",
    "    parameters[\"c\"] = np.random.uniform(0,1)\n",
    "    \n",
    "    plt.figure()\n",
    "    #loss\n",
    "    loss = list()\n",
    "    \n",
    "    #iterations\n",
    "    for i in range(iters):\n",
    "        #forward propagation\n",
    "        predictions = forward_propagation(train_input,parameters)\n",
    "        #cost function\n",
    "        cost = cost_function(predictions,train_output)\n",
    "        loss.append(cost)\n",
    "        print(f\"Iterations = {i+1}, Loss = {cost}\")\n",
    "        #plot\n",
    "        fig,ax = plt.subplots()\n",
    "        ax.plot(train_input,train_output, \"+\", label = \"original\")\n",
    "        ax.plot(train_input,predictions, \"*\", label = \"training\")\n",
    "        legend = ax.legend()\n",
    "        plt.plot(train_input,train_output, \"+\", label = \"original\")\n",
    "        plt.plot(train_input,predictions, \"*\", label = \"training\")\n",
    "        plt.show()\n",
    "        #backward propagation\n",
    "        derivatives = backward_propagation(train_input, train_output, predictions)\n",
    "        #update parameters\n",
    "        parameters = update_parameters(parameters,derivatives,learning_rate)\n",
    "     \n",
    "    return parameters,loss"
   ]
  },
  {
   "cell_type": "code",
   "execution_count": null,
   "id": "ee0209a2",
   "metadata": {},
   "outputs": [],
   "source": [
    "#training\n",
    "parameters,loss = train(train_input,train_output,0.0001,20)"
   ]
  },
  {
   "cell_type": "code",
   "execution_count": null,
   "id": "129f2d36",
   "metadata": {},
   "outputs": [],
   "source": [
    "print(parameters)"
   ]
  },
  {
   "cell_type": "code",
   "execution_count": null,
   "id": "072a8ecf",
   "metadata": {},
   "outputs": [],
   "source": [
    "loss"
   ]
  },
  {
   "cell_type": "code",
   "execution_count": null,
   "id": "aacb93db",
   "metadata": {},
   "outputs": [],
   "source": [
    "plt.plot(loss)"
   ]
  },
  {
   "cell_type": "code",
   "execution_count": null,
   "id": "ebdac1a9",
   "metadata": {},
   "outputs": [],
   "source": [
    "test_predictions = test_input * parameters[\"m\"] + parameters[\"c\"]\n",
    "plt.plot(test_input,test_predictions, \"+\")\n",
    "plt.plot(test_input,test_output, \"*\")\n",
    "plt.show()"
   ]
  },
  {
   "cell_type": "code",
   "execution_count": null,
   "id": "100c1292",
   "metadata": {},
   "outputs": [],
   "source": [
    "cost_function(test_output,test_predictions)"
   ]
  },
  {
   "cell_type": "code",
   "execution_count": null,
   "id": "cdb7d201",
   "metadata": {},
   "outputs": [],
   "source": [
    "from sklearn.linear_model import LinearRegression"
   ]
  },
  {
   "cell_type": "code",
   "execution_count": null,
   "id": "ec505a50",
   "metadata": {},
   "outputs": [],
   "source": [
    "lr_model = LinearRegression()"
   ]
  },
  {
   "cell_type": "code",
   "execution_count": null,
   "id": "1723d2a2",
   "metadata": {},
   "outputs": [],
   "source": [
    "lr_model.fit(train_input,train_output)"
   ]
  },
  {
   "cell_type": "code",
   "execution_count": null,
   "id": "8526c3f5",
   "metadata": {},
   "outputs": [],
   "source": [
    "lr_model.coef_"
   ]
  },
  {
   "cell_type": "code",
   "execution_count": null,
   "id": "febdd7bd",
   "metadata": {},
   "outputs": [],
   "source": [
    "lr_model.intercept_"
   ]
  },
  {
   "cell_type": "code",
   "execution_count": null,
   "id": "6338f2e6",
   "metadata": {},
   "outputs": [],
   "source": [
    "test_predictions = lr_model.predict(test_input)"
   ]
  },
  {
   "cell_type": "code",
   "execution_count": null,
   "id": "274e07a8",
   "metadata": {},
   "outputs": [],
   "source": [
    "plt.plot(test_input, test_predictions, \"+\",color = \"green\")\n",
    "plt.plot(test_input,test_output, \"*\",color = \"red\")\n",
    "plt.xlabel(\"input\")\n",
    "plt.ylabel(\"Output/Predictions\")\n",
    "plt.title(\"Performance Testing\")\n",
    "plt.show()"
   ]
  },
  {
   "cell_type": "code",
   "execution_count": null,
   "id": "4853512a",
   "metadata": {},
   "outputs": [],
   "source": [
    "from sklearn.metrics import mean_squared_error\n",
    "cost = mean_squared_error(test_output,test_predictions)\n",
    "cost"
   ]
  },
  {
   "cell_type": "code",
   "execution_count": null,
   "id": "9cd306ee",
   "metadata": {},
   "outputs": [],
   "source": []
  }
 ],
 "metadata": {
  "kernelspec": {
   "display_name": "Python 3 (ipykernel)",
   "language": "python",
   "name": "python3"
  },
  "language_info": {
   "codemirror_mode": {
    "name": "ipython",
    "version": 3
   },
   "file_extension": ".py",
   "mimetype": "text/x-python",
   "name": "python",
   "nbconvert_exporter": "python",
   "pygments_lexer": "ipython3",
   "version": "3.9.13"
  },
  "vscode": {
   "interpreter": {
    "hash": "ee5e405c00a222202bf8d60a189470d0f00b606dd07429b5cfe5eb3d178e9826"
   }
  }
 },
 "nbformat": 4,
 "nbformat_minor": 5
}
