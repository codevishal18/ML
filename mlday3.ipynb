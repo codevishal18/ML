{
 "cells": [
  {
   "cell_type": "code",
   "execution_count": 1,
   "id": "2f1973b6",
   "metadata": {},
   "outputs": [],
   "source": [
    "import numpy as np"
   ]
  },
  {
   "cell_type": "code",
   "execution_count": 2,
   "id": "46424d16",
   "metadata": {},
   "outputs": [],
   "source": [
    "import time"
   ]
  },
  {
   "cell_type": "code",
   "execution_count": 3,
   "id": "0e771a47",
   "metadata": {},
   "outputs": [
    {
     "name": "stdout",
     "output_type": "stream",
     "text": [
      "time taken by the list 0.30018162727355957\n"
     ]
    }
   ],
   "source": [
    "size=1000000\n",
    "list1=range(size)\n",
    "list2=range(size)\n",
    "r=[]\n",
    "start_time=time.time()\n",
    "for i in range(len(list1)):\n",
    "  r.append(list1[i]*list2[i])\n",
    "end_time=time.time()\n",
    "print(\"time taken by the list\",end_time-start_time)"
   ]
  },
  {
   "cell_type": "code",
   "execution_count": 4,
   "id": "7d6c2e5f",
   "metadata": {},
   "outputs": [
    {
     "name": "stdout",
     "output_type": "stream",
     "text": [
      "time taken by the numpy array 0.03626441955566406\n"
     ]
    }
   ],
   "source": [
    "size=1000000\n",
    "array1=np.arange(size)\n",
    "array2=np.arange(size)\n",
    "p=[]\n",
    "start_time=time.time()\n",
    "p=array1*array2\n",
    "end_time=time.time()\n",
    "print(\"time taken by the numpy array\",end_time-start_time)"
   ]
  },
  {
   "cell_type": "code",
   "execution_count": 5,
   "id": "b8d090a6",
   "metadata": {},
   "outputs": [
    {
     "name": "stdout",
     "output_type": "stream",
     "text": [
      "2 (2, 3) float32\n",
      "[[1. 2. 3.]\n",
      " [2. 3. 4.]]\n"
     ]
    }
   ],
   "source": [
    "a=np.array([[1,2,3],[2,3,4]],dtype=np.float32)\n",
    "print(a.ndim,a.shape,a.dtype)\n",
    "print(a)"
   ]
  },
  {
   "cell_type": "code",
   "execution_count": 6,
   "id": "d63f87ed",
   "metadata": {},
   "outputs": [
    {
     "data": {
      "text/plain": [
       "array([1, 2, 3, 4, 5])"
      ]
     },
     "execution_count": 6,
     "metadata": {},
     "output_type": "execute_result"
    }
   ],
   "source": [
    "arr = np.array([1,2,3,4,5])\n",
    "arr"
   ]
  },
  {
   "cell_type": "code",
   "execution_count": 7,
   "id": "2041bf20",
   "metadata": {},
   "outputs": [
    {
     "data": {
      "text/plain": [
       "numpy.ndarray"
      ]
     },
     "execution_count": 7,
     "metadata": {},
     "output_type": "execute_result"
    }
   ],
   "source": [
    "type(arr)"
   ]
  },
  {
   "cell_type": "code",
   "execution_count": 9,
   "id": "01fdf110",
   "metadata": {},
   "outputs": [
    {
     "name": "stdout",
     "output_type": "stream",
     "text": [
      "<class 'list'>\n"
     ]
    },
    {
     "data": {
      "text/plain": [
       "array([1, 2, 3])"
      ]
     },
     "execution_count": 9,
     "metadata": {},
     "output_type": "execute_result"
    }
   ],
   "source": [
    "list1 = [1,2,3]\n",
    "a = np.array(list1)\n",
    "print(type(list1))\n",
    "a"
   ]
  },
  {
   "cell_type": "code",
   "execution_count": 10,
   "id": "8f3f5d37",
   "metadata": {},
   "outputs": [
    {
     "name": "stdout",
     "output_type": "stream",
     "text": [
      "[ 20.  40.  60.  80. 100. 120. 140. 160. 180. 200. 220. 240. 260. 280.\n",
      " 300. 320. 340. 360. 380. 400. 420. 440. 460. 480. 500.]\n"
     ]
    }
   ],
   "source": [
    "b = np.linspace(20,500,25)\n",
    "print(b)"
   ]
  },
  {
   "cell_type": "code",
   "execution_count": 11,
   "id": "ff0cfb6c",
   "metadata": {},
   "outputs": [],
   "source": [
    "b = np.linspace(20,100)"
   ]
  },
  {
   "cell_type": "code",
   "execution_count": 12,
   "id": "09a22ece",
   "metadata": {},
   "outputs": [
    {
     "data": {
      "text/plain": [
       "array([ 20.        ,  21.63265306,  23.26530612,  24.89795918,\n",
       "        26.53061224,  28.16326531,  29.79591837,  31.42857143,\n",
       "        33.06122449,  34.69387755,  36.32653061,  37.95918367,\n",
       "        39.59183673,  41.2244898 ,  42.85714286,  44.48979592,\n",
       "        46.12244898,  47.75510204,  49.3877551 ,  51.02040816,\n",
       "        52.65306122,  54.28571429,  55.91836735,  57.55102041,\n",
       "        59.18367347,  60.81632653,  62.44897959,  64.08163265,\n",
       "        65.71428571,  67.34693878,  68.97959184,  70.6122449 ,\n",
       "        72.24489796,  73.87755102,  75.51020408,  77.14285714,\n",
       "        78.7755102 ,  80.40816327,  82.04081633,  83.67346939,\n",
       "        85.30612245,  86.93877551,  88.57142857,  90.20408163,\n",
       "        91.83673469,  93.46938776,  95.10204082,  96.73469388,\n",
       "        98.36734694, 100.        ])"
      ]
     },
     "execution_count": 12,
     "metadata": {},
     "output_type": "execute_result"
    }
   ],
   "source": [
    "b"
   ]
  },
  {
   "cell_type": "code",
   "execution_count": 13,
   "id": "3d9d8730",
   "metadata": {},
   "outputs": [
    {
     "data": {
      "text/plain": [
       "array([10, 20, 30, 40, 50, 60, 70, 80, 90])"
      ]
     },
     "execution_count": 13,
     "metadata": {},
     "output_type": "execute_result"
    }
   ],
   "source": [
    "c = np.arange(10,100,10)\n",
    "c"
   ]
  },
  {
   "cell_type": "code",
   "execution_count": 14,
   "id": "151e5fbc",
   "metadata": {},
   "outputs": [
    {
     "data": {
      "text/plain": [
       "array([10, 11, 12, 13, 14, 15, 16, 17, 18, 19])"
      ]
     },
     "execution_count": 14,
     "metadata": {},
     "output_type": "execute_result"
    }
   ],
   "source": [
    "c = np.arange(10,20,1)\n",
    "c"
   ]
  },
  {
   "cell_type": "code",
   "execution_count": 15,
   "id": "04bed8be",
   "metadata": {},
   "outputs": [
    {
     "data": {
      "text/plain": [
       "array([[1, 1, 1, 1],\n",
       "       [1, 1, 1, 1],\n",
       "       [1, 1, 1, 1],\n",
       "       [1, 1, 1, 1]], dtype=int32)"
      ]
     },
     "execution_count": 15,
     "metadata": {},
     "output_type": "execute_result"
    }
   ],
   "source": [
    "np.ones((4,4),dtype=np.int32)"
   ]
  },
  {
   "cell_type": "code",
   "execution_count": 16,
   "id": "a8b43ba8",
   "metadata": {},
   "outputs": [
    {
     "data": {
      "text/plain": [
       "array([[0, 0, 0, 0],\n",
       "       [0, 0, 0, 0],\n",
       "       [0, 0, 0, 0],\n",
       "       [0, 0, 0, 0]], dtype=int32)"
      ]
     },
     "execution_count": 16,
     "metadata": {},
     "output_type": "execute_result"
    }
   ],
   "source": [
    "np.zeros((4,4),dtype=np.int32)"
   ]
  },
  {
   "cell_type": "code",
   "execution_count": 17,
   "id": "762ca4d3",
   "metadata": {},
   "outputs": [
    {
     "data": {
      "text/plain": [
       "array([[0.43075351, 0.79803806, 0.44816573, 0.75848187],\n",
       "       [0.4952597 , 0.06215838, 0.71884841, 0.90748788],\n",
       "       [0.21133608, 0.56339763, 0.48772848, 0.84464454],\n",
       "       [0.44961753, 0.56550286, 0.10392916, 0.63409995],\n",
       "       [0.56673826, 0.89170557, 0.79814883, 0.92737223],\n",
       "       [0.43433068, 0.86609484, 0.31425791, 0.89996223],\n",
       "       [0.90222501, 0.66893169, 0.66711559, 0.42508004],\n",
       "       [0.31075942, 0.01679619, 0.30521147, 0.01602297],\n",
       "       [0.67992347, 0.17193202, 0.81284967, 0.0833692 ],\n",
       "       [0.52264934, 0.45110675, 0.19665968, 0.18355252],\n",
       "       [0.05850304, 0.79873681, 0.7275401 , 0.15828892]])"
      ]
     },
     "execution_count": 17,
     "metadata": {},
     "output_type": "execute_result"
    }
   ],
   "source": [
    "np.random.random((11,4))"
   ]
  },
  {
   "cell_type": "code",
   "execution_count": 27,
   "id": "0710ca99",
   "metadata": {},
   "outputs": [
    {
     "name": "stdout",
     "output_type": "stream",
     "text": [
      "[[1. 1. 1. 1. 1.]\n",
      " [1. 1. 1. 1. 1.]\n",
      " [1. 1. 1. 1. 1.]\n",
      " [1. 1. 1. 1. 1.]\n",
      " [1. 1. 1. 1. 1.]]\n",
      "[[0. 0. 0. 0. 0.]\n",
      " [0. 0. 0. 0. 0.]\n",
      " [0. 0. 0. 0. 0.]\n",
      " [0. 0. 0. 0. 0.]\n",
      " [0. 0. 0. 0. 0.]]\n",
      "[[1. 1. 1. 1. 1.]\n",
      " [1. 1. 1. 1. 1.]\n",
      " [1. 1. 1. 1. 1.]\n",
      " [1. 1. 1. 1. 1.]\n",
      " [1. 1. 1. 1. 1.]\n",
      " [0. 0. 0. 0. 0.]\n",
      " [0. 0. 0. 0. 0.]\n",
      " [0. 0. 0. 0. 0.]\n",
      " [0. 0. 0. 0. 0.]\n",
      " [0. 0. 0. 0. 0.]]\n",
      "[[1. 1. 1. 1. 1. 0. 0. 0. 0. 0.]\n",
      " [1. 1. 1. 1. 1. 0. 0. 0. 0. 0.]\n",
      " [1. 1. 1. 1. 1. 0. 0. 0. 0. 0.]\n",
      " [1. 1. 1. 1. 1. 0. 0. 0. 0. 0.]\n",
      " [1. 1. 1. 1. 1. 0. 0. 0. 0. 0.]]\n",
      "[[1. 1. 1. 1. 1.]\n",
      " [1. 1. 1. 1. 1.]\n",
      " [1. 1. 1. 1. 1.]\n",
      " [1. 1. 1. 1. 1.]\n",
      " [1. 1. 1. 1. 1.]\n",
      " [0. 0. 0. 0. 0.]\n",
      " [0. 0. 0. 0. 0.]\n",
      " [0. 0. 0. 0. 0.]\n",
      " [0. 0. 0. 0. 0.]\n",
      " [0. 0. 0. 0. 0.]]\n"
     ]
    }
   ],
   "source": [
    "A=np.ones((5,5))\n",
    "print(A)\n",
    "B=np.zeros((5,5))\n",
    "print(B)\n",
    "d = np.concatenate([A,B],axis=0)\n",
    "e = np.concatenate([A,B],axis=1)\n",
    "f = np.concatenate([A,B])\n",
    "print(d)\n",
    "print(e)\n",
    "print(f)"
   ]
  },
  {
   "cell_type": "code",
   "execution_count": 28,
   "id": "55f4e424",
   "metadata": {},
   "outputs": [
    {
     "name": "stdout",
     "output_type": "stream",
     "text": [
      "[1 2 3 4 5 6 7 8 9]\n"
     ]
    }
   ],
   "source": [
    "list1=[1,2,3,4,5,6,7,8,9]\n",
    "b=np.array(list1)\n",
    "print(b)"
   ]
  },
  {
   "cell_type": "code",
   "execution_count": 34,
   "id": "b5c80b99",
   "metadata": {},
   "outputs": [
    {
     "name": "stdout",
     "output_type": "stream",
     "text": [
      "[[1 4 7]\n",
      " [2 5 8]\n",
      " [3 6 9]]\n",
      "[[1 2 3]\n",
      " [4 5 6]\n",
      " [7 8 9]]\n",
      "[[1 4 7]\n",
      " [2 5 8]\n",
      " [3 6 9]]\n"
     ]
    }
   ],
   "source": [
    "b = b.reshape(3,3)\n",
    "print(b)\n",
    "b = b.transpose()\n",
    "print(b)\n",
    "b = b.T\n",
    "print(b)"
   ]
  },
  {
   "cell_type": "code",
   "execution_count": 35,
   "id": "4ace5bdc",
   "metadata": {},
   "outputs": [
    {
     "name": "stdout",
     "output_type": "stream",
     "text": [
      "[ 2  6 12]\n",
      "[3 5 7]\n"
     ]
    }
   ],
   "source": [
    "a = np.array([1,2,3])\n",
    "b = np.array([2,3,4])\n",
    "c = a*b\n",
    "print(c)\n",
    "d = a+b\n",
    "print(d)"
   ]
  },
  {
   "cell_type": "code",
   "execution_count": 38,
   "id": "a1d76843",
   "metadata": {},
   "outputs": [
    {
     "name": "stdout",
     "output_type": "stream",
     "text": [
      "[[0.58904066 0.79710362 0.10512181]\n",
      " [0.23135957 0.36891997 0.25711184]\n",
      " [0.23096013 0.51852075 0.09640223]\n",
      " [0.81543939 0.59794102 0.64171395]\n",
      " [0.89365115 0.20410147 0.60140135]\n",
      " [0.87998872 0.65779595 0.0787549 ]\n",
      " [0.81003579 0.09983985 0.08660675]]\n"
     ]
    },
    {
     "data": {
      "text/plain": [
       "array([[False,  True, False],\n",
       "       [False, False, False],\n",
       "       [False, False, False],\n",
       "       [ True, False,  True],\n",
       "       [ True, False,  True],\n",
       "       [ True,  True, False],\n",
       "       [ True, False, False]])"
      ]
     },
     "execution_count": 38,
     "metadata": {},
     "output_type": "execute_result"
    }
   ],
   "source": [
    "a=np.random.random((7,3))\n",
    "print(a)\n",
    "a>0.6"
   ]
  },
  {
   "cell_type": "code",
   "execution_count": 39,
   "id": "fad41f1f",
   "metadata": {},
   "outputs": [
    {
     "name": "stdout",
     "output_type": "stream",
     "text": [
      "[[  4   9]\n",
      " [ 81  25]\n",
      " [225  64]]\n",
      "[[ 2.  3.]\n",
      " [ 9.  5.]\n",
      " [15.  8.]]\n"
     ]
    }
   ],
   "source": [
    "a=np.array([[4,9],[81,25],[225,64]])\n",
    "print(a)\n",
    "b=np.sqrt(a)\n",
    "print(b)"
   ]
  },
  {
   "cell_type": "code",
   "execution_count": 40,
   "id": "2482cb07",
   "metadata": {},
   "outputs": [
    {
     "name": "stdout",
     "output_type": "stream",
     "text": [
      "[-5.         -3.88888889 -2.77777778 -1.66666667 -0.55555556  0.55555556\n",
      "  1.66666667  2.77777778  3.88888889  5.        ]\n",
      "[6.73794700e-03 2.04680757e-02 6.21765240e-02 1.88875603e-01\n",
      " 5.73753421e-01 1.74290900e+00 5.29449005e+00 1.60832407e+01\n",
      " 4.88565713e+01 1.48413159e+02]\n"
     ]
    }
   ],
   "source": [
    "x = np.linspace(-5,5,10)\n",
    "print(x)\n",
    "y = np.exp(x)\n",
    "print(y)"
   ]
  },
  {
   "cell_type": "code",
   "execution_count": 41,
   "id": "cf3dd419",
   "metadata": {},
   "outputs": [
    {
     "data": {
      "image/png": "[encoded data removed]",
      "text/plain": [
       "<Figure size 432x288 with 1 Axes>"
      ]
     },
     "metadata": {
      "needs_background": "light"
     },
     "output_type": "display_data"
    }
   ],
   "source": [
    "z = y/(1+y)\n",
    "import matplotlib.pyplot as plt\n",
    "plt.plot(x,z)\n",
    "plt.show()"
   ]
  },
  {
   "cell_type": "code",
   "execution_count": 42,
   "id": "ebe13565",
   "metadata": {},
   "outputs": [
    {
     "data": {
      "text/plain": [
       "1"
      ]
     },
     "execution_count": 42,
     "metadata": {},
     "output_type": "execute_result"
    }
   ],
   "source": [
    "arr=np.array([1,2,3,3,1,4,4,4])\n",
    "np.min(arr)"
   ]
  },
  {
   "cell_type": "code",
   "execution_count": 43,
   "id": "20d333cf",
   "metadata": {},
   "outputs": [
    {
     "data": {
      "text/plain": [
       "4"
      ]
     },
     "execution_count": 43,
     "metadata": {},
     "output_type": "execute_result"
    }
   ],
   "source": [
    "arr=np.array([1,2,3,3,1,4,4,4])\n",
    "np.max(arr)"
   ]
  },
  {
   "cell_type": "code",
   "execution_count": 44,
   "id": "060a902c",
   "metadata": {},
   "outputs": [
    {
     "name": "stdout",
     "output_type": "stream",
     "text": [
      "0\n",
      "5\n"
     ]
    }
   ],
   "source": [
    "arr=np.array([1,2,3,3,1,4,4,4])\n",
    "x = np.argmin(arr)\n",
    "arr=np.array([1,2,3,3,1,4,4,4])\n",
    "y = np.argmax(arr)\n",
    "print(x)\n",
    "print(y)"
   ]
  },
  {
   "cell_type": "code",
   "execution_count": 46,
   "id": "52924be9",
   "metadata": {},
   "outputs": [
    {
     "data": {
      "text/plain": [
       "array([ 3,  3,  4,  4, 10, 19, 20, 40])"
      ]
     },
     "execution_count": 46,
     "metadata": {},
     "output_type": "execute_result"
    }
   ],
   "source": [
    "arr=np.array([10,20,3,3,19,40,4,4])\n",
    "arr = np.sort(arr)\n",
    "arr"
   ]
  },
  {
   "cell_type": "code",
   "execution_count": 48,
   "id": "409ea331",
   "metadata": {},
   "outputs": [
    {
     "data": {
      "text/plain": [
       "array([10, 20,  3,  3, 19, 40,  4,  4])"
      ]
     },
     "execution_count": 48,
     "metadata": {},
     "output_type": "execute_result"
    }
   ],
   "source": [
    "arr=np.array([-10,-20,3,3,19,-40,4,4])\n",
    "arr = np.abs(arr)\n",
    "arr"
   ]
  },
  {
   "cell_type": "code",
   "execution_count": 52,
   "id": "da37a9b8",
   "metadata": {},
   "outputs": [
    {
     "data": {
      "text/plain": [
       "1"
      ]
     },
     "execution_count": 52,
     "metadata": {},
     "output_type": "execute_result"
    }
   ],
   "source": [
    "arr = np.array([[0.12,0.64,0.19,0.05]])\n",
    "arr = np.argmax(arr)\n",
    "arr"
   ]
  },
  {
   "cell_type": "code",
   "execution_count": 55,
   "id": "8b98bfe3",
   "metadata": {},
   "outputs": [
    {
     "name": "stdout",
     "output_type": "stream",
     "text": [
      "[[ 0  1  2  3]\n",
      " [ 4  5  6  7]\n",
      " [ 8  9 10 11]\n",
      " [12 13 14 15]\n",
      " [16 17 18 19]]\n"
     ]
    }
   ],
   "source": [
    "b=np.arange(20).reshape(5,4)\n",
    "print(b)"
   ]
  },
  {
   "cell_type": "code",
   "execution_count": 59,
   "id": "d0a40a92",
   "metadata": {},
   "outputs": [
    {
     "name": "stdout",
     "output_type": "stream",
     "text": [
      "[ 0  1  2  3  4  5  6  7  8  9 10 11 12 13 14]\n"
     ]
    }
   ],
   "source": [
    "print(b[np.where(b<15)])"
   ]
  },
  {
   "cell_type": "code",
   "execution_count": 60,
   "id": "b1598bcf",
   "metadata": {},
   "outputs": [
    {
     "name": "stdout",
     "output_type": "stream",
     "text": [
      "[[1 2 3]\n",
      " [4 5 6]]\n",
      "[[7 8 9]\n",
      " [6 4 6]]\n",
      "[[ 7 16 27]\n",
      " [24 20 36]]\n"
     ]
    }
   ],
   "source": [
    "a=np.array([[1,2,3],[4,5,6]])\n",
    "print(a)\n",
    "b=np.array([[7,8,9],[6,4,6]])\n",
    "print(b)\n",
    "print(np.multiply(a,b))"
   ]
  },
  {
   "cell_type": "code",
   "execution_count": 63,
   "id": "5a318222",
   "metadata": {},
   "outputs": [
    {
     "name": "stdout",
     "output_type": "stream",
     "text": [
      "[[1 2]\n",
      " [3 4]]\n",
      "[[5 6]\n",
      " [7 8]]\n",
      "[[19 22]\n",
      " [43 50]]\n",
      "[[23 34]\n",
      " [31 46]]\n"
     ]
    }
   ],
   "source": [
    "a=np.array([[1,2],[3,4]])\n",
    "print(a)\n",
    "b=np.array([[5,6],[7,8]])\n",
    "print(b)\n",
    "print(a.dot(b))\n",
    "print(b.dot(a))"
   ]
  },
  {
   "cell_type": "code",
   "execution_count": 64,
   "id": "45298426",
   "metadata": {},
   "outputs": [
    {
     "name": "stdout",
     "output_type": "stream",
     "text": [
      "[[0.2365886  0.96592907 0.05902145 0.24900069 0.02692175 0.63424252\n",
      "  0.27639314 0.40555603]\n",
      " [0.92940128 0.37515423 0.84081649 0.65568606 0.29688963 0.4292314\n",
      "  0.89885402 0.24974949]\n",
      " [0.34722217 0.21769908 0.46129794 0.58325472 0.43196357 0.41074415\n",
      "  0.78674317 0.36789777]\n",
      " [0.6861676  0.92766185 0.77968569 0.7995677  0.33718923 0.08650074\n",
      "  0.33214923 0.44063488]\n",
      " [0.57050421 0.366063   0.31454024 0.97831902 0.80280982 0.2048967\n",
      "  0.54720342 0.21432038]]\n"
     ]
    }
   ],
   "source": [
    "a=np.random.random((5,8))\n",
    "print(a)"
   ]
  },
  {
   "cell_type": "code",
   "execution_count": 66,
   "id": "39e493ac",
   "metadata": {},
   "outputs": [
    {
     "name": "stdout",
     "output_type": "stream",
     "text": [
      "0.23658860279880467\n",
      "0.40555602661710133\n",
      "[0.2365886  0.96592907 0.05902145 0.24900069 0.02692175 0.63424252\n",
      " 0.27639314 0.40555603]\n",
      "[0.2365886  0.92940128 0.34722217 0.6861676  0.57050421]\n",
      "[[0.65568606]]\n"
     ]
    }
   ],
   "source": [
    "print(a[0,0])\n",
    "print(a[0,-1])\n",
    "print(a[0,:])\n",
    "print(a[:,0])\n",
    "print(a[1:2,3:4])"
   ]
  },
  {
   "cell_type": "code",
   "execution_count": 67,
   "id": "21cadb68",
   "metadata": {},
   "outputs": [
    {
     "name": "stdout",
     "output_type": "stream",
     "text": [
      "[[1. 2. 3.]\n",
      " [2. 3. 4.]]\n"
     ]
    }
   ],
   "source": [
    "a=np.array([[1,2,3],[2,3,4]],dtype=np.float32)\n",
    "print(a)"
   ]
  },
  {
   "cell_type": "code",
   "execution_count": 68,
   "id": "3bf0ac7d",
   "metadata": {},
   "outputs": [
    {
     "data": {
      "text/plain": [
       "15.0"
      ]
     },
     "execution_count": 68,
     "metadata": {},
     "output_type": "execute_result"
    }
   ],
   "source": [
    "a.sum()"
   ]
  },
  {
   "cell_type": "code",
   "execution_count": 69,
   "id": "dc3e5e39",
   "metadata": {},
   "outputs": [
    {
     "data": {
      "text/plain": [
       "array([3., 5., 7.], dtype=float32)"
      ]
     },
     "execution_count": 69,
     "metadata": {},
     "output_type": "execute_result"
    }
   ],
   "source": [
    "a.sum(axis=0)"
   ]
  },
  {
   "cell_type": "code",
   "execution_count": 70,
   "id": "8102b724",
   "metadata": {},
   "outputs": [
    {
     "data": {
      "text/plain": [
       "array([6., 9.], dtype=float32)"
      ]
     },
     "execution_count": 70,
     "metadata": {},
     "output_type": "execute_result"
    }
   ],
   "source": [
    "a.sum(axis=1)"
   ]
  },
  {
   "cell_type": "code",
   "execution_count": 73,
   "id": "fdca605d",
   "metadata": {},
   "outputs": [
    {
     "name": "stdout",
     "output_type": "stream",
     "text": [
      "[[1. 2. 3.]\n",
      " [2. 3. 4.]\n",
      " [3. 4. 5.]]\n",
      "[[11. 12. 13.]\n",
      " [12. 13. 14.]\n",
      " [13. 14. 15.]]\n"
     ]
    }
   ],
   "source": [
    "a=np.array([[1,2,3],[2,3,4],[3,4,5]],dtype=np.float32)\n",
    "print(a)\n",
    "a=a+10\n",
    "print(a)"
   ]
  },
  {
   "cell_type": "code",
   "execution_count": 72,
   "id": "9f69cc15",
   "metadata": {},
   "outputs": [
    {
     "name": "stdout",
     "output_type": "stream",
     "text": [
      "[[1. 2. 3.]\n",
      " [2. 3. 4.]]\n",
      "[[3. 5. 7.]\n",
      " [4. 6. 8.]]\n"
     ]
    }
   ],
   "source": [
    "a=np.array([[1,2,3],[2,3,4]],dtype=np.float32)\n",
    "print(a)\n",
    "a=a+[2,3,4]\n",
    "print(a)\n"
   ]
  },
  {
   "cell_type": "code",
   "execution_count": null,
   "id": "0abf6a01",
   "metadata": {},
   "outputs": [],
   "source": []
  }
 ],
 "metadata": {
  "kernelspec": {
   "display_name": "Python 3 (ipykernel)",
   "language": "python",
   "name": "python3"
  },
  "language_info": {
   "codemirror_mode": {
    "name": "ipython",
    "version": 3
   },
   "file_extension": ".py",
   "mimetype": "text/x-python",
   "name": "python",
   "nbconvert_exporter": "python",
   "pygments_lexer": "ipython3",
   "version": "3.9.7"
  }
 },
 "nbformat": 4,
 "nbformat_minor": 5
}
